{
 "cells": [
  {
   "cell_type": "markdown",
   "id": "cac40011-4232-43ec-8f24-2ac8ae6204a5",
   "metadata": {},
   "source": [
    "# __Problem-1__"
   ]
  },
  {
   "cell_type": "code",
   "execution_count": 1,
   "id": "a47f70d7-70e5-4e83-be08-32c48d60af5f",
   "metadata": {},
   "outputs": [
    {
     "name": "stdout",
     "output_type": "stream",
     "text": [
      "[[45 48  1  4]\n",
      " [ 4 40 10 20]\n",
      " [22 37 24  7]\n",
      " [25 25 13  2]\n",
      " [39 40 24 47]]\n",
      "[np.int32(4), np.int32(10), np.int32(37), np.int32(25)]\n",
      "[48 40 37 25 47]\n",
      "[ 1  4  4 10 20 22  7 13  2]\n",
      "[np.int32(45), np.int32(48), np.int32(1), np.int32(4), np.int32(20), np.int32(7), np.int32(2), np.int32(47), np.int32(24), np.int32(40), np.int32(39), np.int32(25), np.int32(22), np.int32(4)]\n"
     ]
    }
   ],
   "source": [
    "import numpy as np\n",
    "\n",
    "np.random.seed(0)\n",
    "array = np.random.randint(1, 51, size=(5, 4))\n",
    "print(array)\n",
    "\n",
    "anti_diagonal = [array[i, array.shape[1] - 1 - i] for i in range(min(array.shape))]\n",
    "print(anti_diagonal)\n",
    "\n",
    "max_in_rows = np.max(array, axis=1)\n",
    "print(max_in_rows)\n",
    "\n",
    "overall_mean = np.mean(array)\n",
    "filtered_elements = array[array <= overall_mean]\n",
    "print(filtered_elements)\n",
    "\n",
    "def numpy_boundary_traversal(matrix):\n",
    "    rows, cols = matrix.shape\n",
    "    boundary_elements = []\n",
    "    for col in range(cols):\n",
    "        boundary_elements.append(matrix[0, col])\n",
    "    for row in range(1, rows):\n",
    "        boundary_elements.append(matrix[row, cols - 1])\n",
    "    if rows > 1:\n",
    "        for col in range(cols - 2, -1, -1):\n",
    "            boundary_elements.append(matrix[rows - 1, col])\n",
    "    if cols > 1:\n",
    "        for row in range(rows - 2, 0, -1):\n",
    "            boundary_elements.append(matrix[row, 0])\n",
    "    return boundary_elements\n",
    "\n",
    "print(numpy_boundary_traversal(array))\n"
   ]
  },
  {
   "cell_type": "markdown",
   "id": "00dd3804-de96-4673-af6e-ad5b6d4b166f",
   "metadata": {},
   "source": [
    "# Problem - 2"
   ]
  },
  {
   "cell_type": "code",
   "execution_count": 2,
   "id": "7c7eae43-5dc8-410e-babb-4daf47ed8d07",
   "metadata": {},
   "outputs": [
    {
     "name": "stdout",
     "output_type": "stream",
     "text": [
      "[4.17 7.2  0.   3.02 1.47 0.92 1.86 3.46 3.97 5.39 4.19 6.85 2.04 8.78\n",
      " 0.27 6.7  4.17 5.59 1.4  1.98]\n",
      "0.0011437481734488664 8.781174363909454 3.7116410063685885\n",
      "[17.39  7.2   0.    9.14  2.15  0.85  3.47 11.94 15.74  5.39 17.57  6.85\n",
      "  4.18  8.78  0.08  6.7  17.41  5.59  1.97  3.92]\n",
      "[1.30815988e-06 1.75724041e+01 7.50080261e-02 1.74143298e+01\n",
      " 8.52641608e-01 1.73907352e+01 1.97084925e+00 1.57424429e+01\n",
      " 2.15372915e+00 1.19412216e+01 3.46928663e+00 9.14049845e+00\n",
      " 3.92442000e+00 8.78117436e+00 4.18007224e+00 7.20324493e+00\n",
      " 5.38816734e+00 6.85219500e+00 5.58689828e+00 6.70467510e+00]\n"
     ]
    }
   ],
   "source": [
    "import numpy as np\n",
    "\n",
    "np.random.seed(1)\n",
    "array_1d = np.random.uniform(0, 10, 20)\n",
    "print(np.round(array_1d, 2))\n",
    "\n",
    "min_val = np.min(array_1d)\n",
    "max_val = np.max(array_1d)\n",
    "median_val = np.median(array_1d)\n",
    "print(min_val, max_val, median_val)\n",
    "\n",
    "array_1d[array_1d < 5] = array_1d[array_1d < 5] ** 2\n",
    "print(np.round(array_1d, 2))\n",
    "\n",
    "def numpy_alternate_sort(vec):\n",
    "    sorted_vec = np.sort(vec)\n",
    "    left = 0\n",
    "    right = len(sorted_vec) - 1\n",
    "    result = []\n",
    "    toggle = True\n",
    "    while left <= right:\n",
    "        if toggle:\n",
    "            result.append(sorted_vec[left])\n",
    "            left += 1\n",
    "        else:\n",
    "            result.append(sorted_vec[right])\n",
    "            right -= 1\n",
    "        toggle = not toggle\n",
    "    return np.array(result)\n",
    "\n",
    "print(numpy_alternate_sort(array_1d))\n"
   ]
  },
  {
   "cell_type": "markdown",
   "id": "de6f8364-2a79-48b5-a50b-6117902a7b80",
   "metadata": {},
   "source": [
    "# Problem - 3"
   ]
  },
  {
   "cell_type": "code",
   "execution_count": 4,
   "id": "e3f4abd3-e8bd-4c66-8f67-da63ad26b773",
   "metadata": {},
   "outputs": [
    {
     "name": "stdout",
     "output_type": "stream",
     "text": [
      "     Name  Subject  Score Grade\n",
      "2   Karan  English     95     A\n",
      "5  Anjali  Science     93     A\n",
      "8   Arjun     Math     90     A\n",
      "0   Aarav     Math     90     A\n",
      "4   Rohan     Math     72     C\n",
      "6  Vikram  English     68     D\n",
      "1    Diya  Science     65     D\n",
      "7   Pooja  History     61     D\n",
      "3   Sneha  History     58     F\n",
      "9    Neha  Science     57     F\n",
      "Subject\n",
      "English    81.500000\n",
      "History    59.500000\n",
      "Math       84.000000\n",
      "Science    71.666667\n",
      "Name: Score, dtype: float64\n",
      "     Name  Subject  Score Grade\n",
      "0   Aarav     Math     90     A\n",
      "2   Karan  English     95     A\n",
      "5  Anjali  Science     93     A\n",
      "8   Arjun     Math     90     A\n"
     ]
    }
   ],
   "source": [
    "import pandas as pd\n",
    "import numpy as np\n",
    "\n",
    "np.random.seed(2)\n",
    "names = ['Aarav', 'Diya', 'Karan', 'Sneha', 'Rohan', 'Anjali', 'Vikram', 'Pooja', 'Arjun', 'Neha']\n",
    "\n",
    "subjects = ['Math', 'Science', 'English', 'History', 'Math', 'Science', 'English', 'History', 'Math', 'Science']\n",
    "scores = np.random.randint(50, 101, size=10)\n",
    "\n",
    "df = pd.DataFrame({'Name': names, 'Subject': subjects, 'Score': scores, 'Grade': ''})\n",
    "\n",
    "def assign_grade(score):\n",
    "    if 90 <= score <= 100:\n",
    "        return 'A'\n",
    "    elif 80 <= score <= 89:\n",
    "        return 'B'\n",
    "    elif 70 <= score <= 79:\n",
    "        return 'C'\n",
    "    elif 60 <= score <= 69:\n",
    "        return 'D'\n",
    "    else:\n",
    "        return 'F'\n",
    "\n",
    "df['Grade'] = df['Score'].apply(assign_grade)\n",
    "\n",
    "df_sorted = df.sort_values(by='Score', ascending=False)\n",
    "print(df_sorted)\n",
    "\n",
    "avg_scores = df.groupby('Subject')['Score'].mean()\n",
    "print(avg_scores)\n",
    "\n",
    "def pandas_filter_pass(dataframe):\n",
    "    return dataframe[dataframe['Grade'].isin(['A', 'B'])]\n",
    "\n",
    "print(pandas_filter_pass(df))\n"
   ]
  },
  {
   "cell_type": "markdown",
   "id": "7ae0fe4d-eba0-4e93-85d8-ab5026a84cb9",
   "metadata": {},
   "source": [
    "# Problem - 4"
   ]
  },
  {
   "cell_type": "code",
   "execution_count": 1,
   "id": "fc40b2b0-47cd-43fc-a032-4ff65a1b1703",
   "metadata": {},
   "outputs": [
    {
     "name": "stdout",
     "output_type": "stream",
     "text": [
      "1.0\n"
     ]
    }
   ],
   "source": [
    "import pandas as pd\n",
    "from sklearn.feature_extraction.text import CountVectorizer\n",
    "from sklearn.model_selection import train_test_split\n",
    "from sklearn.naive_bayes import MultinomialNB\n",
    "from sklearn.metrics import accuracy_score\n",
    "\n",
    "positive_reviews = [\"I loved this movie\", \"Amazing film\", \"Great acting\", \"Fantastic story\", \"Best movie ever\", \"Highly recommend\", \"Wonderful experience\", \"Brilliant direction\", \"Superb cinematography\", \"Excellent soundtrack\"] * 5\n",
    "negative_reviews = [\"I hated this movie\", \"Terrible film\", \"Bad acting\", \"Awful story\", \"Worst movie ever\", \"Do not recommend\", \"Disappointing experience\", \"Poor direction\", \"Lousy cinematography\", \"Terrible soundtrack\"] * 5\n",
    "\n",
    "reviews = positive_reviews + negative_reviews\n",
    "sentiments = [\"positive\"] * 50 + [\"negative\"] * 50\n",
    "\n",
    "df = pd.DataFrame({'Review': reviews, 'Sentiment': sentiments})\n",
    "\n",
    "vectorizer = CountVectorizer(max_features=500, stop_words='english')\n",
    "X = vectorizer.fit_transform(df['Review'])\n",
    "\n",
    "X_train, X_test, y_train, y_test = train_test_split(X, df['Sentiment'], test_size=0.2, random_state=42)\n",
    "\n",
    "model = MultinomialNB()\n",
    "model.fit(X_train, y_train)\n",
    "y_pred = model.predict(X_test)\n",
    "accuracy = accuracy_score(y_test, y_pred)\n",
    "print(accuracy)\n",
    "\n",
    "def predict_review_sentiment(model, vectorizer, review):\n",
    "    review_vec = vectorizer.transform([review])\n",
    "    prediction = model.predict(review_vec)\n",
    "    return prediction\n"
   ]
  },
  {
   "cell_type": "markdown",
   "id": "f12d1894-30a4-40f6-acb4-59350580a6fa",
   "metadata": {},
   "source": [
    "# Problem-5"
   ]
  },
  {
   "cell_type": "code",
   "execution_count": 2,
   "id": "50df3333-a4fd-4a4b-b214-9852c5253f1d",
   "metadata": {},
   "outputs": [
    {
     "name": "stdout",
     "output_type": "stream",
     "text": [
      "1.0 0.9285714285714286 0.9629629629629629\n"
     ]
    }
   ],
   "source": [
    "import pandas as pd\n",
    "from sklearn.feature_extraction.text import TfidfVectorizer\n",
    "from sklearn.model_selection import train_test_split\n",
    "from sklearn.linear_model import LogisticRegression\n",
    "from sklearn.metrics import precision_recall_fscore_support\n",
    "\n",
    "good_feedback = [\"Great product\", \"Very useful\", \"Highly recommend\", \"Excellent quality\", \"Works perfectly\", \"Satisfied\", \"Good value\", \"Will buy again\", \"Five stars\", \"Love it\"] * 5\n",
    "bad_feedback = [\"Poor quality\", \"Not useful\", \"Disappointed\", \"Waste of money\", \"Broke quickly\", \"Bad experience\", \"Do not recommend\", \"One star\", \"Terrible\", \"Hate it\"] * 5\n",
    "\n",
    "texts = good_feedback + bad_feedback\n",
    "labels = [\"good\"] * 50 + [\"bad\"] * 50\n",
    "\n",
    "df = pd.DataFrame({'Text': texts, 'Label': labels})\n",
    "\n",
    "vectorizer = TfidfVectorizer(max_features=300, lowercase=True, stop_words='english')\n",
    "X = vectorizer.fit_transform(df['Text'])\n",
    "\n",
    "X_train, X_test, y_train, y_test = train_test_split(X, df['Label'], test_size=0.25, random_state=42)\n",
    "\n",
    "model = LogisticRegression(max_iter=1000)\n",
    "model.fit(X_train, y_train)\n",
    "y_pred = model.predict(X_test)\n",
    "\n",
    "precision, recall, f1, _ = precision_recall_fscore_support(y_test, y_pred, average='binary', pos_label='good')\n",
    "print(precision, recall, f1)\n",
    "\n",
    "def text_preprocess_vectorize(texts, vectorizer):\n",
    "    return vectorizer.transform(texts)\n"
   ]
  },
  {
   "cell_type": "code",
   "execution_count": null,
   "id": "fc7ce943-ebd4-4370-ba6f-a4121ae8d77a",
   "metadata": {},
   "outputs": [],
   "source": []
  }
 ],
 "metadata": {
  "kernelspec": {
   "display_name": "Python 3 (ipykernel)",
   "language": "python",
   "name": "python3"
  },
  "language_info": {
   "codemirror_mode": {
    "name": "ipython",
    "version": 3
   },
   "file_extension": ".py",
   "mimetype": "text/x-python",
   "name": "python",
   "nbconvert_exporter": "python",
   "pygments_lexer": "ipython3",
   "version": "3.9.18"
  }
 },
 "nbformat": 4,
 "nbformat_minor": 5
}
